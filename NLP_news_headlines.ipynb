{
  "nbformat": 4,
  "nbformat_minor": 0,
  "metadata": {
    "colab": {
      "provenance": [],
      "authorship_tag": "ABX9TyOfM9Gd/jYcSJxCNlJZsCEG",
      "include_colab_link": true
    },
    "kernelspec": {
      "name": "python3",
      "display_name": "Python 3"
    },
    "language_info": {
      "name": "python"
    }
  },
  "cells": [
    {
      "cell_type": "markdown",
      "metadata": {
        "id": "view-in-github",
        "colab_type": "text"
      },
      "source": [
        "<a href=\"https://colab.research.google.com/github/Rithika-Shankar/NLP-News-Headlines/blob/main/NLP_news_headlines.ipynb\" target=\"_parent\"><img src=\"https://colab.research.google.com/assets/colab-badge.svg\" alt=\"Open In Colab\"/></a>"
      ]
    },
    {
      "cell_type": "code",
      "execution_count": 1,
      "metadata": {
        "id": "HMdjLBF8GQEg"
      },
      "outputs": [],
      "source": [
        "import spacy\n",
        "import pandas as pd"
      ]
    },
    {
      "cell_type": "code",
      "source": [
        "nlp = spacy.load(\"en_core_web_sm\")"
      ],
      "metadata": {
        "id": "2u2P-qtNHTqT"
      },
      "execution_count": 2,
      "outputs": []
    },
    {
      "cell_type": "code",
      "source": [
        "df = pd.read_csv(\"bbc_headlines.csv\")"
      ],
      "metadata": {
        "id": "oHDd3pldHTtE"
      },
      "execution_count": 4,
      "outputs": []
    },
    {
      "cell_type": "code",
      "source": [
        "print(\"Sample Headlines Data:\")\n",
        "print(df.head())"
      ],
      "metadata": {
        "colab": {
          "base_uri": "https://localhost:8080/"
        },
        "id": "_J0xYJ6wHTxh",
        "outputId": "1b677e9c-c35b-420c-fa5b-e0bab2b4510a"
      },
      "execution_count": 5,
      "outputs": [
        {
          "output_type": "stream",
          "name": "stdout",
          "text": [
            "Sample Headlines Data:\n",
            "                                      News Headlines\n",
            "0  Growing fear in Beirut after Israel strikes ci...\n",
            "1  Japanese atomic bomb survivors win Nobel Peace...\n",
            "2  Drone footage shows Hurricane Milton damage in...\n",
            "3  One dead and 23 rescued after lift malfunction...\n",
            "4    Australian woman's arm bitten off in dog attack\n"
          ]
        }
      ]
    },
    {
      "cell_type": "code",
      "source": [
        "headline_entities = []"
      ],
      "metadata": {
        "id": "_dY_IHfiHT1F"
      },
      "execution_count": 6,
      "outputs": []
    },
    {
      "cell_type": "code",
      "source": [
        "for headline in df[\"News Headlines\"]:\n",
        "    doc = nlp(headline)\n",
        "    entities = [(ent.text, ent.label_) for ent in doc.ents]\n",
        "    headline_entities.append({\n",
        "        \"Headline\": headline,\n",
        "        \"Entities\": entities\n",
        "    })"
      ],
      "metadata": {
        "id": "WOEpRUMaHT4s"
      },
      "execution_count": 7,
      "outputs": []
    },
    {
      "cell_type": "code",
      "source": [
        "entities_df = pd.DataFrame(headline_entities)"
      ],
      "metadata": {
        "id": "bGxSi_6MH6P9"
      },
      "execution_count": 8,
      "outputs": []
    },
    {
      "cell_type": "code",
      "source": [
        "print(\"Extracted Entities DataFrame:\")\n",
        "print(entities_df.head())"
      ],
      "metadata": {
        "colab": {
          "base_uri": "https://localhost:8080/"
        },
        "id": "4xmrw-VGH6TZ",
        "outputId": "baef80be-be37-44ab-fa5c-4412597a946d"
      },
      "execution_count": 9,
      "outputs": [
        {
          "output_type": "stream",
          "name": "stdout",
          "text": [
            "Extracted Entities DataFrame:\n",
            "                                            Headline  \\\n",
            "0  Growing fear in Beirut after Israel strikes ci...   \n",
            "1  Japanese atomic bomb survivors win Nobel Peace...   \n",
            "2  Drone footage shows Hurricane Milton damage in...   \n",
            "3  One dead and 23 rescued after lift malfunction...   \n",
            "4    Australian woman's arm bitten off in dog attack   \n",
            "\n",
            "                                            Entities  \n",
            "0     [(Beirut, GPE), (Israel, GPE), (22, CARDINAL)]  \n",
            "1  [(Japanese, NORP), (Nobel Peace Prize, WORK_OF...  \n",
            "2       [(Hurricane Milton, PERSON), (Florida, GPE)]  \n",
            "3  [(One, CARDINAL), (23, CARDINAL), (Colorado, G...  \n",
            "4                               [(Australian, NORP)]  \n"
          ]
        }
      ]
    },
    {
      "cell_type": "code",
      "source": [
        "entities_df.to_csv(\"headline_entities.csv\", index=False)\n",
        "print(\"Entities extracted and saved to 'headline_entities.csv'\")"
      ],
      "metadata": {
        "colab": {
          "base_uri": "https://localhost:8080/"
        },
        "id": "etgJMWKfH6YF",
        "outputId": "1f36e9f4-7931-4e80-f422-c585373c5575"
      },
      "execution_count": 10,
      "outputs": [
        {
          "output_type": "stream",
          "name": "stdout",
          "text": [
            "Entities extracted and saved to 'headline_entities.csv'\n"
          ]
        }
      ]
    }
  ]
}